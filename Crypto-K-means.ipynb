{
 "cells": [
  {
   "cell_type": "markdown",
   "metadata": {},
   "source": [
    "# Clustering based strategy\n",
    "\n",
    "In this notebook, we will create a strategy using the K-Means algorithm and the Simple Moving Average (SMA). \n",
    "The strategy works as follows:\n",
    "1. Fetch the minute data for Ethereum/USDT from a csv file\n",
    "2. Convert the UNIX epoch time to normal datetime format and set it as index\n",
    "3. Compute the SMA values for with a lookback period of 30 minutes\n",
    "4. Compute the past movement to indicate the volatility of the market\n",
    "5. Calculate the market return values\n",
    "6. Train the K-Means on the train data\n",
    "7. Predict the clusters\n",
    "8. Generate the signals\n",
    "9. Compute the strategy returns after slippage \n",
    "10. Plot the strategy returns\n",
    "11. Compute the net profit"
   ]
  },
  {
   "cell_type": "markdown",
   "metadata": {},
   "source": [
    "## Import data and libraries"
   ]
  },
  {
   "cell_type": "code",
   "execution_count": null,
   "metadata": {},
   "outputs": [],
   "source": [
    "# #uncomment if you are running from colab\n",
    "# #talib\n",
    "# !wget http://prdownloads.sourceforge.net/ta-lib/ta-lib-0.4.0-src.tar.gz\n",
    "# !tar -xzvf ta-lib-0.4.0-src.tar.gz\n",
    "# %cd ta-lib\n",
    "# !./configure --prefix=/usr\n",
    "# !make\n",
    "# !make install\n",
    "# !pip install Ta-Lib\n",
    "# #download files from repo\n",
    "# !git clone https://github.com/Datatouille/findalpha.git\n",
    "# !mv findalpha/data .; ls"
   ]
  },
  {
   "cell_type": "code",
   "execution_count": 1,
   "metadata": {},
   "outputs": [],
   "source": [
    "import numpy as np\n",
    "import matplotlib.pyplot as plt\n",
    "import pandas as pd\n",
    "import talib as ta\n",
    "from sklearn.cluster import KMeans"
   ]
  },
  {
   "cell_type": "code",
   "execution_count": 2,
   "metadata": {},
   "outputs": [],
   "source": [
    "df1=pd.read_csv(\"data/1min_ETHUSDT-Upload.csv\").iloc[-100000:]\n",
    "# Set the timestamp to be the index for the data\n",
    "df1=df1.set_index('Timestamp')"
   ]
  },
  {
   "cell_type": "code",
   "execution_count": 3,
   "metadata": {},
   "outputs": [
    {
     "data": {
      "text/html": [
       "<div>\n",
       "<style scoped>\n",
       "    .dataframe tbody tr th:only-of-type {\n",
       "        vertical-align: middle;\n",
       "    }\n",
       "\n",
       "    .dataframe tbody tr th {\n",
       "        vertical-align: top;\n",
       "    }\n",
       "\n",
       "    .dataframe thead th {\n",
       "        text-align: right;\n",
       "    }\n",
       "</style>\n",
       "<table border=\"1\" class=\"dataframe\">\n",
       "  <thead>\n",
       "    <tr style=\"text-align: right;\">\n",
       "      <th></th>\n",
       "      <th>Open</th>\n",
       "      <th>High</th>\n",
       "      <th>Low</th>\n",
       "      <th>Close</th>\n",
       "    </tr>\n",
       "    <tr>\n",
       "      <th>Timestamp</th>\n",
       "      <th></th>\n",
       "      <th></th>\n",
       "      <th></th>\n",
       "      <th></th>\n",
       "    </tr>\n",
       "  </thead>\n",
       "  <tbody>\n",
       "    <tr>\n",
       "      <th>1532697660000</th>\n",
       "      <td>460.89</td>\n",
       "      <td>461.71</td>\n",
       "      <td>460.79</td>\n",
       "      <td>461.71</td>\n",
       "    </tr>\n",
       "    <tr>\n",
       "      <th>1532697720000</th>\n",
       "      <td>461.49</td>\n",
       "      <td>461.67</td>\n",
       "      <td>461.16</td>\n",
       "      <td>461.44</td>\n",
       "    </tr>\n",
       "    <tr>\n",
       "      <th>1532697780000</th>\n",
       "      <td>461.38</td>\n",
       "      <td>461.86</td>\n",
       "      <td>461.33</td>\n",
       "      <td>461.52</td>\n",
       "    </tr>\n",
       "    <tr>\n",
       "      <th>1532697840000</th>\n",
       "      <td>461.60</td>\n",
       "      <td>461.78</td>\n",
       "      <td>461.33</td>\n",
       "      <td>461.59</td>\n",
       "    </tr>\n",
       "    <tr>\n",
       "      <th>1532697900000</th>\n",
       "      <td>461.59</td>\n",
       "      <td>462.17</td>\n",
       "      <td>460.05</td>\n",
       "      <td>460.51</td>\n",
       "    </tr>\n",
       "  </tbody>\n",
       "</table>\n",
       "</div>"
      ],
      "text/plain": [
       "                 Open    High     Low   Close\n",
       "Timestamp                                    \n",
       "1532697660000  460.89  461.71  460.79  461.71\n",
       "1532697720000  461.49  461.67  461.16  461.44\n",
       "1532697780000  461.38  461.86  461.33  461.52\n",
       "1532697840000  461.60  461.78  461.33  461.59\n",
       "1532697900000  461.59  462.17  460.05  460.51"
      ]
     },
     "execution_count": 3,
     "metadata": {},
     "output_type": "execute_result"
    }
   ],
   "source": [
    "df1.head()"
   ]
  },
  {
   "cell_type": "markdown",
   "metadata": {},
   "source": [
    "### Convert the Unix timestamp to datetime"
   ]
  },
  {
   "cell_type": "code",
   "execution_count": 4,
   "metadata": {},
   "outputs": [],
   "source": [
    "df1.index=pd.to_datetime(df1.index, unit='ms')"
   ]
  },
  {
   "cell_type": "code",
   "execution_count": 6,
   "metadata": {},
   "outputs": [
    {
     "data": {
      "text/html": [
       "<div>\n",
       "<style scoped>\n",
       "    .dataframe tbody tr th:only-of-type {\n",
       "        vertical-align: middle;\n",
       "    }\n",
       "\n",
       "    .dataframe tbody tr th {\n",
       "        vertical-align: top;\n",
       "    }\n",
       "\n",
       "    .dataframe thead th {\n",
       "        text-align: right;\n",
       "    }\n",
       "</style>\n",
       "<table border=\"1\" class=\"dataframe\">\n",
       "  <thead>\n",
       "    <tr style=\"text-align: right;\">\n",
       "      <th></th>\n",
       "      <th>Open</th>\n",
       "      <th>High</th>\n",
       "      <th>Low</th>\n",
       "      <th>Close</th>\n",
       "    </tr>\n",
       "    <tr>\n",
       "      <th>Timestamp</th>\n",
       "      <th></th>\n",
       "      <th></th>\n",
       "      <th></th>\n",
       "      <th></th>\n",
       "    </tr>\n",
       "  </thead>\n",
       "  <tbody>\n",
       "    <tr>\n",
       "      <th>2018-07-27 13:21:00</th>\n",
       "      <td>460.89</td>\n",
       "      <td>461.71</td>\n",
       "      <td>460.79</td>\n",
       "      <td>461.71</td>\n",
       "    </tr>\n",
       "    <tr>\n",
       "      <th>2018-07-27 13:22:00</th>\n",
       "      <td>461.49</td>\n",
       "      <td>461.67</td>\n",
       "      <td>461.16</td>\n",
       "      <td>461.44</td>\n",
       "    </tr>\n",
       "    <tr>\n",
       "      <th>2018-07-27 13:23:00</th>\n",
       "      <td>461.38</td>\n",
       "      <td>461.86</td>\n",
       "      <td>461.33</td>\n",
       "      <td>461.52</td>\n",
       "    </tr>\n",
       "    <tr>\n",
       "      <th>2018-07-27 13:24:00</th>\n",
       "      <td>461.60</td>\n",
       "      <td>461.78</td>\n",
       "      <td>461.33</td>\n",
       "      <td>461.59</td>\n",
       "    </tr>\n",
       "    <tr>\n",
       "      <th>2018-07-27 13:25:00</th>\n",
       "      <td>461.59</td>\n",
       "      <td>462.17</td>\n",
       "      <td>460.05</td>\n",
       "      <td>460.51</td>\n",
       "    </tr>\n",
       "  </tbody>\n",
       "</table>\n",
       "</div>"
      ],
      "text/plain": [
       "                       Open    High     Low   Close\n",
       "Timestamp                                          \n",
       "2018-07-27 13:21:00  460.89  461.71  460.79  461.71\n",
       "2018-07-27 13:22:00  461.49  461.67  461.16  461.44\n",
       "2018-07-27 13:23:00  461.38  461.86  461.33  461.52\n",
       "2018-07-27 13:24:00  461.60  461.78  461.33  461.59\n",
       "2018-07-27 13:25:00  461.59  462.17  460.05  460.51"
      ]
     },
     "execution_count": 6,
     "metadata": {},
     "output_type": "execute_result"
    }
   ],
   "source": [
    "df1.head()"
   ]
  },
  {
   "cell_type": "code",
   "execution_count": 7,
   "metadata": {},
   "outputs": [
    {
     "data": {
      "image/png": "[encoded data removed]",
      "text/plain": [
       "<Figure size 1080x576 with 1 Axes>"
      ]
     },
     "metadata": {
      "needs_background": "light"
     },
     "output_type": "display_data"
    }
   ],
   "source": [
    "# Let us visualize the data to confirm if it really was trending for the given time frame\n",
    "plt.figure(figsize=(15,8))\n",
    "plt.plot(df1.Close)\n",
    "plt.xticks(rotation=30)\n",
    "plt.xlabel('Date')\n",
    "plt.ylabel('Price')\n",
    "plt.show()"
   ]
  },
  {
   "cell_type": "markdown",
   "metadata": {},
   "source": [
    "### Compute the SMA, movement and market return"
   ]
  },
  {
   "cell_type": "code",
   "execution_count": 8,
   "metadata": {},
   "outputs": [],
   "source": [
    "# We use the past Close price to calculate the SMA, and Movement\n",
    "df1['SMA']=df1.Close.shift(1).rolling(30).mean()\n",
    "# Calculate the absolute value of percentage change in prices this will be used as input for the K-means\n",
    "df1['Movement']=df1.Close.shift(1).pct_change().abs()\n",
    "# We Calculate the market return values\n",
    "df1['Return']=df1.Close.pct_change()\n",
    "\n",
    "# Drop all the null values\n",
    "df1=df1.dropna()"
   ]
  },
  {
   "cell_type": "code",
   "execution_count": 9,
   "metadata": {},
   "outputs": [
    {
     "data": {
      "text/html": [
       "<div>\n",
       "<style scoped>\n",
       "    .dataframe tbody tr th:only-of-type {\n",
       "        vertical-align: middle;\n",
       "    }\n",
       "\n",
       "    .dataframe tbody tr th {\n",
       "        vertical-align: top;\n",
       "    }\n",
       "\n",
       "    .dataframe thead th {\n",
       "        text-align: right;\n",
       "    }\n",
       "</style>\n",
       "<table border=\"1\" class=\"dataframe\">\n",
       "  <thead>\n",
       "    <tr style=\"text-align: right;\">\n",
       "      <th></th>\n",
       "      <th>Open</th>\n",
       "      <th>High</th>\n",
       "      <th>Low</th>\n",
       "      <th>Close</th>\n",
       "      <th>SMA</th>\n",
       "      <th>Movement</th>\n",
       "      <th>Return</th>\n",
       "    </tr>\n",
       "    <tr>\n",
       "      <th>Timestamp</th>\n",
       "      <th></th>\n",
       "      <th></th>\n",
       "      <th></th>\n",
       "      <th></th>\n",
       "      <th></th>\n",
       "      <th></th>\n",
       "      <th></th>\n",
       "    </tr>\n",
       "  </thead>\n",
       "  <tbody>\n",
       "    <tr>\n",
       "      <th>2018-07-27 13:51:00</th>\n",
       "      <td>460.87</td>\n",
       "      <td>461.31</td>\n",
       "      <td>460.76</td>\n",
       "      <td>460.88</td>\n",
       "      <td>461.002333</td>\n",
       "      <td>0.000434</td>\n",
       "      <td>0.000022</td>\n",
       "    </tr>\n",
       "    <tr>\n",
       "      <th>2018-07-27 13:52:00</th>\n",
       "      <td>460.88</td>\n",
       "      <td>461.05</td>\n",
       "      <td>460.65</td>\n",
       "      <td>460.78</td>\n",
       "      <td>460.974667</td>\n",
       "      <td>0.000022</td>\n",
       "      <td>-0.000217</td>\n",
       "    </tr>\n",
       "    <tr>\n",
       "      <th>2018-07-27 13:53:00</th>\n",
       "      <td>460.77</td>\n",
       "      <td>460.96</td>\n",
       "      <td>460.25</td>\n",
       "      <td>460.86</td>\n",
       "      <td>460.952667</td>\n",
       "      <td>0.000217</td>\n",
       "      <td>0.000174</td>\n",
       "    </tr>\n",
       "    <tr>\n",
       "      <th>2018-07-27 13:54:00</th>\n",
       "      <td>460.61</td>\n",
       "      <td>461.06</td>\n",
       "      <td>459.79</td>\n",
       "      <td>460.50</td>\n",
       "      <td>460.930667</td>\n",
       "      <td>0.000174</td>\n",
       "      <td>-0.000781</td>\n",
       "    </tr>\n",
       "    <tr>\n",
       "      <th>2018-07-27 13:55:00</th>\n",
       "      <td>460.60</td>\n",
       "      <td>461.10</td>\n",
       "      <td>460.60</td>\n",
       "      <td>460.89</td>\n",
       "      <td>460.894333</td>\n",
       "      <td>0.000781</td>\n",
       "      <td>0.000847</td>\n",
       "    </tr>\n",
       "  </tbody>\n",
       "</table>\n",
       "</div>"
      ],
      "text/plain": [
       "                       Open    High     Low   Close         SMA  Movement  \\\n",
       "Timestamp                                                                   \n",
       "2018-07-27 13:51:00  460.87  461.31  460.76  460.88  461.002333  0.000434   \n",
       "2018-07-27 13:52:00  460.88  461.05  460.65  460.78  460.974667  0.000022   \n",
       "2018-07-27 13:53:00  460.77  460.96  460.25  460.86  460.952667  0.000217   \n",
       "2018-07-27 13:54:00  460.61  461.06  459.79  460.50  460.930667  0.000174   \n",
       "2018-07-27 13:55:00  460.60  461.10  460.60  460.89  460.894333  0.000781   \n",
       "\n",
       "                       Return  \n",
       "Timestamp                      \n",
       "2018-07-27 13:51:00  0.000022  \n",
       "2018-07-27 13:52:00 -0.000217  \n",
       "2018-07-27 13:53:00  0.000174  \n",
       "2018-07-27 13:54:00 -0.000781  \n",
       "2018-07-27 13:55:00  0.000847  "
      ]
     },
     "execution_count": 9,
     "metadata": {},
     "output_type": "execute_result"
    }
   ],
   "source": [
    "df1.head()"
   ]
  },
  {
   "cell_type": "code",
   "execution_count": 10,
   "metadata": {},
   "outputs": [
    {
     "data": {
      "text/plain": [
       "99970"
      ]
     },
     "execution_count": 10,
     "metadata": {},
     "output_type": "execute_result"
    }
   ],
   "source": [
    "# The length of total data is\n",
    "len(df1)"
   ]
  },
  {
   "cell_type": "code",
   "execution_count": 11,
   "metadata": {},
   "outputs": [
    {
     "data": {
      "text/plain": [
       "24992"
      ]
     },
     "execution_count": 11,
     "metadata": {},
     "output_type": "execute_result"
    }
   ],
   "source": [
    "# Let us assign a variable to signify the 25% of total data\n",
    "t=int(0.25*len(df1))\n",
    "t"
   ]
  },
  {
   "cell_type": "markdown",
   "metadata": {},
   "source": [
    "### Create a column to contain the cluster values"
   ]
  },
  {
   "cell_type": "code",
   "execution_count": 12,
   "metadata": {},
   "outputs": [],
   "source": [
    "df1['Cluster']=0"
   ]
  },
  {
   "cell_type": "markdown",
   "metadata": {},
   "source": [
    "#### We are using the past initial 75% data to train the clustering algorithm."
   ]
  },
  {
   "cell_type": "code",
   "execution_count": 13,
   "metadata": {},
   "outputs": [],
   "source": [
    "# Instantiate a K-Means model\n",
    "clus = KMeans(2)\n",
    "# Fit the K-Means model to the train data to train the model. Here we need to reshape the data\n",
    "# as the input contains a single column\n",
    "clus.fit(np.reshape(df1.Movement.iloc[:-t].values,(-1,1)))\n",
    "# Assign the predicted cluster values to the cluster column. We use the predict function to predict the cluster values\n",
    "df1.Cluster=clus.predict(np.reshape(df1.Movement.values,(-1,1)))"
   ]
  },
  {
   "cell_type": "markdown",
   "metadata": {},
   "source": [
    "### Volatility Cluster centres"
   ]
  },
  {
   "cell_type": "code",
   "execution_count": 14,
   "metadata": {},
   "outputs": [
    {
     "name": "stdout",
     "output_type": "stream",
     "text": [
      "Centre of Cluster 0  0.0005106011754234642\n",
      "Centre of Cluster 1  0.002973038572230155\n"
     ]
    }
   ],
   "source": [
    "print(\"Centre of Cluster 0 \",clus.cluster_centers_[0][0])\n",
    "print(\"Centre of Cluster 1 \",clus.cluster_centers_[1][0])"
   ]
  },
  {
   "cell_type": "markdown",
   "metadata": {},
   "source": [
    "#### Here we can see that Cluster 0's centre is less than the Cluster 1's, indicating that Cluster 0 contains the market datapoints which have less movement and are the low voaltity data points which we want to trade."
   ]
  },
  {
   "cell_type": "code",
   "execution_count": 15,
   "metadata": {},
   "outputs": [
    {
     "data": {
      "text/plain": [
       "3591"
      ]
     },
     "execution_count": 15,
     "metadata": {},
     "output_type": "execute_result"
    }
   ],
   "source": [
    "# To check the number of high volatility data points in cluster 1\n",
    "df1.Cluster.iloc[-t:].sum()"
   ]
  },
  {
   "cell_type": "markdown",
   "metadata": {},
   "source": [
    "### Generate the trend trading signals"
   ]
  },
  {
   "cell_type": "code",
   "execution_count": 16,
   "metadata": {},
   "outputs": [],
   "source": [
    "df1['Signal']= 0\n",
    "# If the datapoint belongs to Cluster 0, and the SMA < Close then we sell in the market. This is indicated by the -1.\n",
    "df1['Signal']=np.where(( (df1.SMA>df1.Close.shift(1)) & (df1.Cluster==0)),-1,df1.Signal)\n",
    "# If the datapoint belongs to Cluster 0, and the SMA > Close then we sell in the market. This is indicated by the 1.\n",
    "df1['Signal']=np.where( ((df1.SMA<df1.Close.shift(1)) & (df1.Cluster==0)),1,df1.Signal)"
   ]
  },
  {
   "cell_type": "markdown",
   "metadata": {},
   "source": [
    "### Compute the Strategy returns "
   ]
  },
  {
   "cell_type": "code",
   "execution_count": 17,
   "metadata": {},
   "outputs": [],
   "source": [
    "# We can compute the strategy returns by multiplying the trading signals with return values.\n",
    "# The multiplication will give us values same as the market returns if we are long \n",
    "# and opposite the market returns if we are short\n",
    "df1['StrReturn']=df1.Signal*df1.Return"
   ]
  },
  {
   "cell_type": "code",
   "execution_count": 18,
   "metadata": {},
   "outputs": [
    {
     "data": {
      "image/png": "[encoded data removed]",
      "text/plain": [
       "<Figure size 720x504 with 1 Axes>"
      ]
     },
     "metadata": {
      "needs_background": "light"
     },
     "output_type": "display_data"
    }
   ],
   "source": [
    "plt.figure(figsize=(10,7))\n",
    "Cumulative_Returns=df1.StrReturn.iloc[-t:].cumsum()\n",
    "Cumulative_Returns.plot()\n",
    "plt.xlabel('Date')\n",
    "plt.ylabel('Returns')\n",
    "plt.show()"
   ]
  },
  {
   "cell_type": "markdown",
   "metadata": {},
   "source": [
    "### Compute the total slippage cost and net cumulative  returns on the test data (last 25%)"
   ]
  },
  {
   "cell_type": "raw",
   "metadata": {},
   "source": [
    "When we execute a strategy based on market orders our strategy can experience a significant slippage,\n",
    "if the bid-ask prices are far away. So, we have taken an average bid-ask spread of 0.05 based on the order book \n",
    "data from crypto exchanges and subtracted this value from every trade."
   ]
  },
  {
   "cell_type": "code",
   "execution_count": 19,
   "metadata": {},
   "outputs": [],
   "source": [
    "#Check if a trade is executed in the Signal column, if it has, then subtract the slippage value from the strategy returns \n",
    "Cumulative_Returns=(df1.StrReturn.iloc[-t:]-df1.Signal.iloc[-t:].abs()*(0.05/df1.Close.iloc[-t:])).expanding().sum()"
   ]
  },
  {
   "cell_type": "code",
   "execution_count": 20,
   "metadata": {},
   "outputs": [
    {
     "data": {
      "text/plain": [
       "Timestamp\n",
       "2018-09-17 15:29:00    0.000000\n",
       "2018-09-17 15:30:00    0.000000\n",
       "2018-09-17 15:31:00    0.000000\n",
       "2018-09-17 15:32:00    0.000000\n",
       "2018-09-17 15:33:00   -0.000730\n",
       "2018-09-17 15:34:00   -0.003601\n",
       "2018-09-17 15:35:00   -0.003601\n",
       "2018-09-17 15:36:00   -0.003601\n",
       "2018-09-17 15:37:00   -0.003601\n",
       "2018-09-17 15:38:00   -0.003601\n",
       "2018-09-17 15:39:00   -0.003601\n",
       "2018-09-17 15:40:00   -0.003601\n",
       "2018-09-17 15:41:00   -0.003601\n",
       "2018-09-17 15:42:00   -0.003211\n",
       "2018-09-17 15:43:00    0.002854\n",
       "2018-09-17 15:44:00    0.002854\n",
       "2018-09-17 15:45:00    0.002854\n",
       "2018-09-17 15:46:00    0.002854\n",
       "2018-09-17 15:47:00    0.000065\n",
       "2018-09-17 15:48:00    0.000065\n",
       "2018-09-17 15:49:00    0.000065\n",
       "2018-09-17 15:50:00   -0.001053\n",
       "2018-09-17 15:51:00   -0.000422\n",
       "2018-09-17 15:52:00   -0.003971\n",
       "2018-09-17 15:53:00   -0.003971\n",
       "2018-09-17 15:54:00   -0.003777\n",
       "2018-09-17 15:55:00   -0.006200\n",
       "2018-09-17 15:56:00   -0.006200\n",
       "2018-09-17 15:57:00   -0.003383\n",
       "2018-09-17 15:58:00   -0.003383\n",
       "                         ...   \n",
       "2018-10-04 23:31:00   -4.804477\n",
       "2018-10-04 23:32:00   -4.804253\n",
       "2018-10-04 23:33:00   -4.804792\n",
       "2018-10-04 23:34:00   -4.804253\n",
       "2018-10-04 23:35:00   -4.804028\n",
       "2018-10-04 23:36:00   -4.803578\n",
       "2018-10-04 23:37:00   -4.804659\n",
       "2018-10-04 23:38:00   -4.804929\n",
       "2018-10-04 23:39:00   -4.805019\n",
       "2018-10-04 23:40:00   -4.804164\n",
       "2018-10-04 23:41:00   -4.803804\n",
       "2018-10-04 23:42:00   -4.804390\n",
       "2018-10-04 23:43:00   -4.804480\n",
       "2018-10-04 23:44:00   -4.805156\n",
       "2018-10-04 23:45:00   -4.806822\n",
       "2018-10-04 23:46:00   -4.806732\n",
       "2018-10-04 23:47:00   -4.806822\n",
       "2018-10-04 23:48:00   -4.806912\n",
       "2018-10-04 23:49:00   -4.807362\n",
       "2018-10-04 23:50:00   -4.808037\n",
       "2018-10-04 23:51:00   -4.808262\n",
       "2018-10-04 23:52:00   -4.808937\n",
       "2018-10-04 23:53:00   -4.810647\n",
       "2018-10-04 23:54:00   -4.811096\n",
       "2018-10-04 23:55:00   -4.811501\n",
       "2018-10-04 23:56:00   -4.811411\n",
       "2018-10-04 23:57:00   -4.811905\n",
       "2018-10-04 23:58:00   -4.812130\n",
       "2018-10-04 23:59:00   -4.811500\n",
       "2018-10-05 00:00:00   -4.812354\n",
       "Length: 24992, dtype: float64"
      ]
     },
     "execution_count": 20,
     "metadata": {},
     "output_type": "execute_result"
    }
   ],
   "source": [
    "Cumulative_Returns"
   ]
  },
  {
   "cell_type": "markdown",
   "metadata": {},
   "source": [
    "### Plot the cumulative returns of the strategy"
   ]
  },
  {
   "cell_type": "code",
   "execution_count": 21,
   "metadata": {},
   "outputs": [
    {
     "data": {
      "image/png": "[encoded data removed]",
      "text/plain": [
       "<Figure size 720x504 with 1 Axes>"
      ]
     },
     "metadata": {
      "needs_background": "light"
     },
     "output_type": "display_data"
    }
   ],
   "source": [
    "plt.figure(figsize=(10,7))\n",
    "Cumulative_Returns.plot()\n",
    "plt.xlabel('Date')\n",
    "plt.ylabel('Returns')\n",
    "plt.show()"
   ]
  },
  {
   "cell_type": "markdown",
   "metadata": {},
   "source": [
    "### Compute the net profit after slippage"
   ]
  },
  {
   "cell_type": "code",
   "execution_count": 22,
   "metadata": {},
   "outputs": [],
   "source": [
    "Final_percentage_retuns=(Cumulative_Returns.iloc[-1])*100"
   ]
  },
  {
   "cell_type": "code",
   "execution_count": 23,
   "metadata": {},
   "outputs": [
    {
     "data": {
      "text/plain": [
       "-481.2353828765699"
      ]
     },
     "execution_count": 23,
     "metadata": {},
     "output_type": "execute_result"
    }
   ],
   "source": [
    "Final_percentage_retuns"
   ]
  },
  {
   "cell_type": "markdown",
   "metadata": {},
   "source": [
    "As we can see the strategy is not profitable, as the trade entry points are not completely optimized yet. To optimize the entry points, we need to use multiple indicators. We will learn how to optimize later."
   ]
  },
  {
   "cell_type": "code",
   "execution_count": null,
   "metadata": {},
   "outputs": [],
   "source": []
  }
 ],
 "metadata": {
  "kernelspec": {
   "display_name": "Python 3",
   "language": "python",
   "name": "python3"
  },
  "language_info": {
   "codemirror_mode": {
    "name": "ipython",
    "version": 3
   },
   "file_extension": ".py",
   "mimetype": "text/x-python",
   "name": "python",
   "nbconvert_exporter": "python",
   "pygments_lexer": "ipython3",
   "version": "3.6.8"
  }
 },
 "nbformat": 4,
 "nbformat_minor": 2
}
